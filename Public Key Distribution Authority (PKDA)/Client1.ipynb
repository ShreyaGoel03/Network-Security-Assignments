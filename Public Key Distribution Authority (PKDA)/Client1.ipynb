{
 "cells": [
  {
   "cell_type": "code",
   "execution_count": 1,
   "metadata": {},
   "outputs": [],
   "source": [
    "#Libraries Used\n",
    "import socket\n",
    "import pickle\n",
    "import time\n",
    "import sys"
   ]
  },
  {
   "cell_type": "code",
   "execution_count": 2,
   "metadata": {},
   "outputs": [],
   "source": [
    "#Client 1 has its public and private keys and public key of PKDA\n",
    "with open('publicKey_client1.pkl','rb') as file:\n",
    "    publicKey_client1 = pickle.load(file)\n",
    "    \n",
    "with open('privateKey_client1.pkl','rb') as file:\n",
    "    privateKey_client1 = pickle.load(file)\n",
    "    \n",
    "with open('publicKey_PKDA.pkl','rb') as file:\n",
    "    publicKey_PKDA = pickle.load(file)"
   ]
  },
  {
   "cell_type": "code",
   "execution_count": 3,
   "metadata": {},
   "outputs": [],
   "source": [
    "#Evaluating the binary exponention \n",
    "#M^e (mod n)\n",
    "#C^d (mod n)\n",
    "\n",
    "def binary_modular_exponention(m,e,n):\n",
    "    result = 1\n",
    "    m = m % n\n",
    "    if (m == 0):\n",
    "        return 0\n",
    "    while(e>0):\n",
    "        if(e&1):\n",
    "            result = (result*m) % n\n",
    "        e = e>>1\n",
    "        m = (m*m) % n\n",
    "    return result"
   ]
  },
  {
   "cell_type": "code",
   "execution_count": 4,
   "metadata": {},
   "outputs": [],
   "source": [
    "#Encryption Algorithm\n",
    "def encrypt_data(encryption_key, message):\n",
    "    cipher_text = ''\n",
    "    for value in range(0, len(message)):\n",
    "        encrypted_char = binary_modular_exponention(ord(message[value]), encryption_key[0], encryption_key[1])\n",
    "        cipher_text += chr(encrypted_char)\n",
    "    return cipher_text"
   ]
  },
  {
   "cell_type": "code",
   "execution_count": 5,
   "metadata": {},
   "outputs": [],
   "source": [
    "#Decryption Algorithm\n",
    "def decrypt_data(decryption_key, cipher_data):\n",
    "    original_text = ''\n",
    "    for value in range(0, len(cipher_data)):\n",
    "        decrypted_char = binary_modular_exponention(ord(cipher_data[value]), decryption_key[0], decryption_key[1])\n",
    "        original_text += chr(decrypted_char)\n",
    "    return original_text"
   ]
  },
  {
   "cell_type": "code",
   "execution_count": 6,
   "metadata": {},
   "outputs": [],
   "source": [
    "#Closing any previous socket connection\n",
    "s = socket.socket(socket.AF_INET,socket.SOCK_STREAM)\n",
    "s.close()"
   ]
  },
  {
   "cell_type": "code",
   "execution_count": 7,
   "metadata": {},
   "outputs": [
    {
     "name": "stdout",
     "output_type": "stream",
     "text": [
      "Connecting to Server....\n",
      "\n",
      "Connected to Server\n"
     ]
    }
   ],
   "source": [
    "#Defining the local host and different ports\n",
    "host = 'local host'\n",
    "server_port = 5000\n",
    "client2_port = 5001\n",
    "client1_port = 5002\n",
    "\n",
    "#Defining the Socket Connection\n",
    "s = socket.socket(socket.AF_INET,socket.SOCK_STREAM)\n",
    "print('Connecting to Server....')\n",
    "s.connect(('127.0.0.1', server_port))\n",
    "print()\n",
    "print('Connected to Server')"
   ]
  },
  {
   "cell_type": "code",
   "execution_count": 8,
   "metadata": {},
   "outputs": [
    {
     "name": "stdout",
     "output_type": "stream",
     "text": [
      "connected succcessfully to Public-Key Authority\n",
      "Request sent by client 1 : client2||1635253162.6066768\n",
      "\n",
      "Message received from server(after decryption) \n",
      " :  5||221||client2||1635253162.6066768\n",
      "\n",
      "\n",
      "Public key of requested client : [5, 221]\n",
      "\n",
      "Sent Time Stamp T1:  1635253162.6066768\n",
      "\n",
      "Recieved Time Stamp T1:  1635253162.6122663\n",
      "\n",
      "\n",
      "Connecting to Client 2\n",
      "Connected Succcessfully to Client2\n",
      "\n",
      "Client 1 to Client 2(before encryption) :  client1||1635253162.6156664\n",
      "\n",
      "Client 1 to Client 2(after encryption) :  ØKÑº\f",
      "y§§y¯3B!B3y¯!%¯yB¯¯¯4\n",
      "\n",
      "CONNECTION FROM: ('127.0.0.1', 50654)\n",
      "\n",
      "Client 2 to Client 1(after decryption) :  1635253162.6156664||1635253162.622589\n",
      "Original n1 = 1635253162.6156664\n",
      "Received n2 = 1635253162.6156664\n",
      "Message Authentic\n",
      "\n",
      "Connection Established!\n"
     ]
    }
   ],
   "source": [
    "#Step 1 \n",
    "# (1) Request || T1\n",
    "\n",
    "#Connected to Server\n",
    "msg = s.recv(1024)\n",
    "print(msg.decode())\n",
    "\n",
    "#Message Generation\n",
    "t1 = time.time()\n",
    "req_ts = 'client2'+'||'+str(t1)\n",
    "s.send(req_ts.encode())\n",
    "print('Request sent by client 1 :',req_ts)\n",
    "print()\n",
    "msg = s.recv(1024)\n",
    "\n",
    "#Decode the message receieved from PKDA from Step 2\n",
    "decrypted_text = decrypt_data(publicKey_PKDA, msg.decode())\n",
    "print('Message received from server(after decryption) \\n : ',decrypted_text)\n",
    "print()\n",
    "\n",
    "#Finding the public key of client to be connected\n",
    "requested_public_key_e = int(decrypted_text.split('||')[0])\n",
    "requested_public_key_n = int(decrypted_text.split('||')[1])\n",
    "requested_public_key = [requested_public_key_e,requested_public_key_n]\n",
    "print()\n",
    "print('Public key of requested client :',requested_public_key)\n",
    "print()\n",
    "print('Sent Time Stamp T1: ', decrypted_text.split('||')[3])\n",
    "print()\n",
    "print('Recieved Time Stamp T1: ', str(time.time()))\n",
    "print()\n",
    "\n",
    "#Step 3\n",
    "# E(PUb, [ IDA || N1])\n",
    "\n",
    "#Connecting to Client 2\n",
    "print()\n",
    "print('Connecting to Client 2')\n",
    "s = socket.socket(socket.AF_INET, socket.SOCK_STREAM)\n",
    "s.connect(('127.0.0.1', client2_port))\n",
    "msg = s.recv(1024)\n",
    "print(msg.decode())\n",
    "print()\n",
    "\n",
    "#Send the response as the data encrypted using the Public key of Client 2\n",
    "IDA= 'client1'\n",
    "N1 = str(time.time())\n",
    "IDA_N1 = IDA + '||' + N1\n",
    "print('Client 1 to Client 2(before encryption) : ', IDA_N1)\n",
    "print()\n",
    "#Message Encrypted which is to be send to Client 2\n",
    "encrypted_text = encrypt_data(requested_public_key, IDA_N1)\n",
    "print('Client 1 to Client 2(after encryption) : ', encrypted_text)\n",
    "s.send(encrypted_text.encode())\n",
    "print()\n",
    "s.close()\n",
    "\n",
    "#Seting up Socket Connection to listen to Client 2\n",
    "s = socket.socket(socket.AF_INET,socket.SOCK_STREAM)\n",
    "s.bind(('', client1_port))\n",
    "s.listen(5)\n",
    "c, addr = s.accept()\n",
    "print(\"CONNECTION FROM:\", str(addr))\n",
    "c.send(b\"connected succcessfully to client1\")\n",
    "print()\n",
    "msg = c.recv(1024) #Message from Step6\n",
    "decrypted_text = decrypt_data(privateKey_client1, msg.decode())\n",
    "print('Client 2 to Client 1(after decryption) : ',decrypted_text)\n",
    "\n",
    "n2=decrypted_text.split('||')[1]\n",
    "n1=decrypted_text.split('||')[0]\n",
    "\n",
    "if(n1 == N1):\n",
    "    print('Original n1 =',N1)\n",
    "    print('Received n2 =', n1)\n",
    "    print('Message Authentic')\n",
    "else:\n",
    "    print('Message found not Authentic')\n",
    "    sys.exit(1)\n",
    "print()  \n",
    "\n",
    "#Step 7 Establishing connection with Client 2 finally\n",
    "# (7) E(PUb, N2)\n",
    "encrypted_text = encrypt_data(requested_public_key, n2)\n",
    "c.send(encrypted_text.encode())\n",
    "print('Connection Established!')"
   ]
  },
  {
   "cell_type": "code",
   "execution_count": 9,
   "metadata": {},
   "outputs": [
    {
     "name": "stdout",
     "output_type": "stream",
     "text": [
      "Client 1(this client) : Hi 1\n",
      "Client 1 Encrypted Message(this Client):  YÑ\u0002y\n",
      "\n",
      "Client 2 says(Encrypted Message):  N\"]Dw]di\n",
      "Client 2 says :  Got-it 1\n",
      "\n",
      "Client 1(this client) : Hi 2\n",
      "Client 1 Encrypted Message(this Client):  YÑ\u0002!\n",
      "\n",
      "Client 2 says(Encrypted Message):  N\"]Dw]d\n",
      "Client 2 says :  Got-it 2\n",
      "\n",
      "Client 1(this client) : Hi 3\n",
      "Client 1 Encrypted Message(this Client):  YÑ\u00023\n",
      "\n",
      "Client 2 says(Encrypted Message):  N\"]Dw]d\n",
      "Client 2 says :  Got-it 3\n",
      "\n"
     ]
    }
   ],
   "source": [
    "#Printing the messages\n",
    "count=1\n",
    "while(count<=3):\n",
    "    #Sending Messages\n",
    "    message = 'Hi '+str(count)\n",
    "    print('Client 1(this client) :', message)\n",
    "    encrypted_text = encrypt_data(requested_public_key, message)\n",
    "    print('Client 1 Encrypted Message(this Client): ', encrypted_text)\n",
    "    print()\n",
    "    c.send(encrypted_text.encode())\n",
    "    \n",
    "    count+=1\n",
    "    \n",
    "    #Receiving Messages\n",
    "    msg = c.recv(1024)\n",
    "    print('Client 2 says(Encrypted Message): ', msg.decode())\n",
    "    decrypted_text = decrypt_data(privateKey_client1, msg.decode())\n",
    "    print('Client 2 says : ', decrypted_text)\n",
    "    print()\n",
    "    \n",
    "c.close()"
   ]
  }
 ],
 "metadata": {
  "kernelspec": {
   "display_name": "Python 3",
   "language": "python",
   "name": "python3"
  },
  "language_info": {
   "codemirror_mode": {
    "name": "ipython",
    "version": 3
   },
   "file_extension": ".py",
   "mimetype": "text/x-python",
   "name": "python",
   "nbconvert_exporter": "python",
   "pygments_lexer": "ipython3",
   "version": "3.6.9"
  }
 },
 "nbformat": 4,
 "nbformat_minor": 4
}
