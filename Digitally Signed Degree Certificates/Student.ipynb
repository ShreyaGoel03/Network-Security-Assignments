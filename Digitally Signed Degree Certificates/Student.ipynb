{
 "cells": [
  {
   "cell_type": "code",
   "execution_count": 1,
   "metadata": {},
   "outputs": [],
   "source": [
    "#Libraries Used\n",
    "import socket\n",
    "import pickle\n",
    "import time\n",
    "import sys\n",
    "import pdfplumber\n",
    "import hashlib\n",
    "from fpdf import FPDF"
   ]
  },
  {
   "cell_type": "code",
   "execution_count": 2,
   "metadata": {},
   "outputs": [],
   "source": [
    "with open('publicKey_registrar.pkl','rb') as file:\n",
    "    publicKey_registrar = pickle.load(file)\n",
    "\n",
    "with open('publicKey_director.pkl','rb') as file:\n",
    "    publicKey_director = pickle.load(file)\n",
    "    \n",
    "with open('publicKey_student.pkl','rb') as file:\n",
    "    publicKey_student = pickle.load(file)\n",
    "\n",
    "with open('privateKey_student.pkl','rb') as file:\n",
    "    privateKey_student = pickle.load(file)"
   ]
  },
  {
   "cell_type": "code",
   "execution_count": 3,
   "metadata": {},
   "outputs": [],
   "source": [
    "#Evaluating the binary exponention \n",
    "#M^e (mod n)\n",
    "#C^d (mod n)\n",
    "\n",
    "def binary_modular_exponention(m,e,n):\n",
    "    result = 1\n",
    "    m = m % n\n",
    "    if (m == 0):\n",
    "        return 0\n",
    "    while(e>0):\n",
    "        if(e&1):\n",
    "            result = (result*m) % n\n",
    "        e = e>>1\n",
    "        m = (m*m) % n\n",
    "    return result"
   ]
  },
  {
   "cell_type": "code",
   "execution_count": 4,
   "metadata": {},
   "outputs": [],
   "source": [
    "#Encryption Algorithm\n",
    "def encrypt_data(encryption_key, message):\n",
    "    cipher_text = ''\n",
    "    for value in range(0, len(message)):\n",
    "        encrypted_char = binary_modular_exponention(ord(message[value]), encryption_key[0], encryption_key[1])\n",
    "        cipher_text += chr(encrypted_char)\n",
    "    return cipher_text"
   ]
  },
  {
   "cell_type": "code",
   "execution_count": 5,
   "metadata": {},
   "outputs": [],
   "source": [
    "#Decryption Algorithm\n",
    "def decrypt_data(decryption_key, cipher_data):\n",
    "    original_text = ''\n",
    "    for value in range(0, len(cipher_data)):\n",
    "        decrypted_char = binary_modular_exponention(ord(cipher_data[value]), decryption_key[0], decryption_key[1])\n",
    "        original_text += chr(decrypted_char)\n",
    "    return original_text"
   ]
  },
  {
   "cell_type": "code",
   "execution_count": 6,
   "metadata": {},
   "outputs": [],
   "source": [
    "#Closing any previous socket connection\n",
    "s = socket.socket(socket.AF_INET,socket.SOCK_STREAM)\n",
    "s.close()"
   ]
  },
  {
   "cell_type": "code",
   "execution_count": 7,
   "metadata": {},
   "outputs": [
    {
     "name": "stdout",
     "output_type": "stream",
     "text": [
      "Connecting to Server....\n",
      "\n",
      "Connected to Server\n"
     ]
    }
   ],
   "source": [
    "#Defining the local host and different ports\n",
    "host = 'local host'\n",
    "server_port = 5000\n",
    "\n",
    "#Defining the Socket Connection\n",
    "s = socket.socket(socket.AF_INET,socket.SOCK_STREAM)\n",
    "print('Connecting to Server....')\n",
    "s.connect(('127.0.0.1', server_port))\n",
    "print()\n",
    "print('Connected to Server')"
   ]
  },
  {
   "cell_type": "code",
   "execution_count": 8,
   "metadata": {},
   "outputs": [
    {
     "name": "stdout",
     "output_type": "stream",
     "text": [
      "Connected succcessfully to Server\n",
      "Enter your Roll Number: MT20054\n",
      "Enter your request about the type of document. Enter 1 for Grade Card or 2 for Degree Certificate: 1\n",
      "Request sent by Client : Grade_MT20054\n",
      "\n",
      "Message received from Server(before decryption) :  N|\u0015bI\u001aKy|b;-E\n",
      "\\L~I)I, ,,t;~~ww,$t)>IdL8w)>>L~,,; )~LLI,L  dt>Icb3\u0015(\u000fd\u000f3\t2GGkE\u001a(GG8~\\$t \n",
      "\n",
      "Message received from Server(after decryption) :  Name: Shreya Goel\n",
      "Grade: A||time.struct_time(tm_year=2021, tm_mon=11, tm_mday=17, tm_hour=19, tm_min=46, tm_sec=18, tm_wday=2, tm_yday=321, tm_isdst=0)||Delhi||8q\u001bKbu78uS%G%cu\u001b6qS\u0018ScbccGqq%%cK\u0018Sd68%\u00186qccGb\u0018q66Sc6bbdS\n",
      "\n",
      "Received Hashed Value:  8q\u001bKbu78uS%G%cu\u001b6qS\u0018ScbccGqq%%cK\u0018Sd68%\u00186qccGb\u0018q66Sc6bbdS\n",
      "\n",
      "Decrypted Hashed Value:  80513b47849fafc4560929cbcc3a00ffc132e9d68f2ee60ccab20669c6bbd3e9\n",
      "\n",
      "Calculated Hashed Value:  80513b47849fafc4560929cbcc3a00ffc132e9d68f2ee60ccab20669c6bbd3e9\n",
      "\n",
      "Original Text Received. Valid Signature!\n",
      "\n",
      "Your Grade Report\n",
      "Name: Shreya Goel\n",
      "Grade: A\n",
      "\n",
      "Storing the report as a .pdf file\n"
     ]
    }
   ],
   "source": [
    "#Connected to Server\n",
    "msg = s.recv(1024)\n",
    "print(msg.decode())\n",
    "\n",
    "#Message Generation Step 1\n",
    "roll_no = str(input(\"Enter your Roll Number: \"))\n",
    "request_type = str(input(\"Enter your request about the type of document. Enter 1 for Grade Card or 2 for Degree Certificate: \"))\n",
    "\n",
    "if request_type == \"1\":\n",
    "    roll_no = \"Grade_\" + roll_no\n",
    "else:\n",
    "    roll_no = \"Degree_\" + roll_no\n",
    "    \n",
    "s.send(roll_no.encode())\n",
    "print('Request sent by Client :',roll_no)\n",
    "print()\n",
    "msg = s.recv(1024)\n",
    "print('Message received from Server(before decryption) : ',msg.decode())\n",
    "print() \n",
    "try:\n",
    "    #Step 5\n",
    "    #Client receives the message\n",
    "    received_data_encrypted = msg.decode()\n",
    "    #Decrypting the Message\n",
    "    received_data = decrypt_data(privateKey_student, received_data_encrypted)\n",
    "    print('Message received from Server(after decryption) : ',received_data)\n",
    "    print() \n",
    "    \n",
    "    #Splitting the data and Checking the Hash values\n",
    "    grade_value = received_data.split('||')[0] + \"||\" + received_data.split('||')[1] + \"||\" + received_data.split('||')[2]\n",
    "    received_hash = received_data.split('||')[3]    \n",
    "    print(\"Received Hashed Value: \",received_hash)\n",
    "    print()\n",
    "    \n",
    "    #Decrypts the received hash using public key of registrar and director\n",
    "    double_decrypted_hash = decrypt_data(publicKey_director, received_hash)\n",
    "    decrypted_hash = decrypt_data(publicKey_registrar, double_decrypted_hash)\n",
    "    print(\"Decrypted Hashed Value: \",decrypted_hash)\n",
    "    print()\n",
    "    \n",
    "    #Step 6\n",
    "    #Finding And Comparing Hashes\n",
    "    calculated_hash = hashlib.sha256(grade_value.encode())\n",
    "    print(\"Calculated Hashed Value: \",calculated_hash.hexdigest())\n",
    "    print()\n",
    "\n",
    "    \n",
    "    #Comparing Hashes\n",
    "    if (decrypted_hash == calculated_hash.hexdigest()): #Authentic Message\n",
    "        print(\"Original Text Received. Valid Signature!\")\n",
    "        print()\n",
    "        grade = grade_value.split('||')[0]\n",
    "        print(\"Your Grade Report\")\n",
    "        print(grade)\n",
    "        print()\n",
    "        #Creating a pdf and storing it\n",
    "        print(\"Storing the report as a .pdf file\")\n",
    "        grade_pdf = FPDF()\n",
    "        # Add a page\n",
    "        grade_pdf.add_page()\n",
    "        # Setting style and size of font \n",
    "        grade_pdf.set_font(\"Arial\", size = 15)\n",
    "        grade_pdf.multi_cell(200, 10, txt = grade, align = 'L')\n",
    "        # Saving the pdf\n",
    "        name_pdf = \"Received_\" + roll_no + \".pdf\"\n",
    "        grade_pdf.output(name_pdf) \n",
    "    else:\n",
    "        print(\"No, original data is not received. Data has been hampered in between. Signature is not valid!\")\n",
    "\n",
    "except Exception as e:\n",
    "    print(\"Roll Number does not exist!\")\n",
    "    print(e)\n",
    "    pass"
   ]
  }
 ],
 "metadata": {
  "kernelspec": {
   "display_name": "Python 3",
   "language": "python",
   "name": "python3"
  },
  "language_info": {
   "codemirror_mode": {
    "name": "ipython",
    "version": 3
   },
   "file_extension": ".py",
   "mimetype": "text/x-python",
   "name": "python",
   "nbconvert_exporter": "python",
   "pygments_lexer": "ipython3",
   "version": "3.6.9"
  }
 },
 "nbformat": 4,
 "nbformat_minor": 4
}
