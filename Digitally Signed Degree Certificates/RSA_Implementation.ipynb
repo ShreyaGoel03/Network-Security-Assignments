{
 "cells": [
  {
   "cell_type": "code",
   "execution_count": 27,
   "metadata": {},
   "outputs": [],
   "source": [
    "#Libraries Used\n",
    "from math import sqrt\n",
    "import pickle"
   ]
  },
  {
   "cell_type": "code",
   "execution_count": 28,
   "metadata": {},
   "outputs": [],
   "source": [
    "#Function to find GCD between two values\n",
    "def find_gcd(a,b):\n",
    "    if (b == 0):\n",
    "        return a\n",
    "    else:\n",
    "        return find_gcd(b,a%b)"
   ]
  },
  {
   "cell_type": "code",
   "execution_count": 29,
   "metadata": {},
   "outputs": [],
   "source": [
    "#Find Encryption key using gcd(phi,e) = 1\n",
    "def find_encryption_key(lower, upper):\n",
    "    for value in range(lower+1, upper):\n",
    "        if (find_gcd(value,upper) == 1):\n",
    "            return value"
   ]
  },
  {
   "cell_type": "code",
   "execution_count": 30,
   "metadata": {},
   "outputs": [],
   "source": [
    "#Find Decryption key using ed = 1 mod phi\n",
    "def find_decryption_key(encryption_key, phi):\n",
    "    decryption_key = 1\n",
    "    while(True):\n",
    "        ed = encryption_key*decryption_key\n",
    "        if (ed%phi == 1):\n",
    "            return decryption_key\n",
    "        else:\n",
    "            decryption_key += 1"
   ]
  },
  {
   "cell_type": "code",
   "execution_count": 31,
   "metadata": {},
   "outputs": [],
   "source": [
    "#RSA Function\n",
    "#Input = 2 prime numbers such that product is <= 255 and >= 127\n",
    "def key_generator(p,q):\n",
    "    n = p*q\n",
    "    phi = (p-1)*(q-1)\n",
    "    e = find_encryption_key(1,phi)\n",
    "    d = find_decryption_key(e,phi)\n",
    "    print(e,d)\n",
    "    encryption_key = [e,n]\n",
    "    decryption_key = [d,n]\n",
    "    return encryption_key,decryption_key"
   ]
  },
  {
   "cell_type": "code",
   "execution_count": 32,
   "metadata": {},
   "outputs": [
    {
     "name": "stdout",
     "output_type": "stream",
     "text": [
      "5 77\n"
     ]
    }
   ],
   "source": [
    "encryption_key,decryption_key = key_generator(13,17)"
   ]
  },
  {
   "cell_type": "code",
   "execution_count": 33,
   "metadata": {},
   "outputs": [],
   "source": [
    "#Evaluating the binary exponention \n",
    "#M^e (mod n)\n",
    "#C^d (mod n)\n",
    "def binary_modular_exponention(m,e,n):\n",
    "    result = 1\n",
    "    m = m % n\n",
    "    if (m == 0):\n",
    "        return 0\n",
    "    while(e>0):\n",
    "        if(e&1):\n",
    "            result = (result*m) % n\n",
    "        e = e>>1\n",
    "        m = (m*m) % n\n",
    "    return result"
   ]
  },
  {
   "cell_type": "code",
   "execution_count": 34,
   "metadata": {},
   "outputs": [],
   "source": [
    "#Encryption Algorithm\n",
    "def encrypt_data(encryption_key, message):\n",
    "    cipher_text = ''\n",
    "    for value in range(0, len(message)):\n",
    "        encrypted_char = binary_modular_exponention(ord(message[value]), encryption_key[0], encryption_key[1])\n",
    "        cipher_text += chr(encrypted_char)\n",
    "    return cipher_text"
   ]
  },
  {
   "cell_type": "code",
   "execution_count": 35,
   "metadata": {},
   "outputs": [],
   "source": [
    "cipher_text = encrypt_data(encryption_key, 'abc')"
   ]
  },
  {
   "cell_type": "code",
   "execution_count": 36,
   "metadata": {},
   "outputs": [],
   "source": [
    "#Decryption Algorithm\n",
    "def decrypt_data(decryption_key, cipher_data):\n",
    "    original_text = ''\n",
    "    for value in range(0, len(cipher_data)):\n",
    "        decrypted_char = binary_modular_exponention(ord(cipher_data[value]), decryption_key[0], decryption_key[1])\n",
    "        original_text += chr(decrypted_char)\n",
    "    return original_text"
   ]
  },
  {
   "cell_type": "code",
   "execution_count": 37,
   "metadata": {},
   "outputs": [
    {
     "data": {
      "text/plain": [
       "'abc'"
      ]
     },
     "execution_count": 37,
     "metadata": {},
     "output_type": "execute_result"
    }
   ],
   "source": [
    "decrypt_data(decryption_key, cipher_text)"
   ]
  },
  {
   "cell_type": "code",
   "execution_count": 38,
   "metadata": {},
   "outputs": [],
   "source": [
    "#Checking if the number is prime or not\n",
    "def isPrime(a):\n",
    "    if (a <= 1):\n",
    "        return False\n",
    "    \n",
    "    for i in range(2, int(sqrt(a))+1):\n",
    "        if (a%i == 0):\n",
    "            return False\n",
    "    return True"
   ]
  },
  {
   "cell_type": "code",
   "execution_count": 63,
   "metadata": {},
   "outputs": [
    {
     "name": "stdout",
     "output_type": "stream",
     "text": [
      "Enter 2 prime numbers p and q such that their product lies between 127 to 255\n",
      "Enter prime number p 11\n",
      "Enter prime number q 13\n",
      "7 103\n",
      "[7, 143] [103, 143]\n"
     ]
    }
   ],
   "source": [
    "#Generation of keys\n",
    "#Registrar\n",
    "while(True):\n",
    "    print('Enter 2 prime numbers p and q such that their product lies between 127 to 255')\n",
    "    p = int(input('Enter prime number p '))\n",
    "    q = int(input('Enter prime number q '))\n",
    "    if(p*q >= 127 and p*q <= 255 and isPrime(p) and isPrime(q)):\n",
    "        break\n",
    "    else:\n",
    "        print('Wrong prime numbers entered. Please enter again!')\n",
    "        \n",
    "encryption_key_registrar,decryption_key_registrar = key_generator(p,q)\n",
    "print(encryption_key_registrar,decryption_key_registrar)"
   ]
  },
  {
   "cell_type": "code",
   "execution_count": 64,
   "metadata": {},
   "outputs": [],
   "source": [
    "with open('publicKey_registrar.pkl','wb') as file:\n",
    "    pickle.dump(decryption_key_registrar,file)\n",
    "    \n",
    "with open('privateKey_registrar.pkl','wb') as file:\n",
    "    pickle.dump(encryption_key_registrar,file)"
   ]
  },
  {
   "cell_type": "code",
   "execution_count": 65,
   "metadata": {},
   "outputs": [
    {
     "name": "stdout",
     "output_type": "stream",
     "text": [
      "Enter 2 prime numbers p and q such that their product lies between 127 to 255\n",
      "Enter prime number p 13\n",
      "Enter prime number q 11\n",
      "7 103\n",
      "[7, 143] [103, 143]\n"
     ]
    }
   ],
   "source": [
    "#Generation of keys\n",
    "#Director\n",
    "while(True):\n",
    "    print('Enter 2 prime numbers p and q such that their product lies between 127 to 255')\n",
    "    p = int(input('Enter prime number p '))\n",
    "    q = int(input('Enter prime number q '))\n",
    "    if(p*q >= 127 and p*q <= 255 and isPrime(p) and isPrime(q)):\n",
    "        break\n",
    "    else:\n",
    "        print('Wrong prime numbers entered. Please enter again!')\n",
    "        \n",
    "encryption_key_director,decryption_key_director = key_generator(p,q)\n",
    "print(encryption_key_director,decryption_key_director)"
   ]
  },
  {
   "cell_type": "code",
   "execution_count": 66,
   "metadata": {},
   "outputs": [],
   "source": [
    "with open('publicKey_director.pkl','wb') as file:\n",
    "    pickle.dump(decryption_key_director,file)\n",
    "    \n",
    "with open('privateKey_director.pkl','wb') as file:\n",
    "    pickle.dump(encryption_key_director,file)"
   ]
  },
  {
   "cell_type": "code",
   "execution_count": 53,
   "metadata": {},
   "outputs": [
    {
     "name": "stdout",
     "output_type": "stream",
     "text": [
      "Enter 2 prime numbers p and q such that their product lies between 127 to 255\n",
      "Enter prime number p 11\n",
      "Enter prime number q 13\n",
      "7 103\n",
      "[7, 143] [103, 143]\n"
     ]
    }
   ],
   "source": [
    "#Generation of keys\n",
    "#Student\n",
    "while(True):\n",
    "    print('Enter 2 prime numbers p and q such that their product lies between 127 to 255')\n",
    "    p = int(input('Enter prime number p '))\n",
    "    q = int(input('Enter prime number q '))\n",
    "    if(p*q >= 127 and p*q <= 255 and isPrime(p) and isPrime(q)):\n",
    "        break\n",
    "    else:\n",
    "        print('Wrong prime numbers entered. Please enter again!')\n",
    "        \n",
    "encryption_key_student,decryption_key_student = key_generator(p,q)\n",
    "print(encryption_key_student,decryption_key_student)"
   ]
  },
  {
   "cell_type": "code",
   "execution_count": 54,
   "metadata": {},
   "outputs": [],
   "source": [
    "with open('publicKey_student.pkl','wb') as file:\n",
    "    pickle.dump(decryption_key_student,file)\n",
    "    \n",
    "with open('privateKey_student.pkl','wb') as file:\n",
    "    pickle.dump(encryption_key_student,file)"
   ]
  }
 ],
 "metadata": {
  "kernelspec": {
   "display_name": "Python 3",
   "language": "python",
   "name": "python3"
  },
  "language_info": {
   "codemirror_mode": {
    "name": "ipython",
    "version": 3
   },
   "file_extension": ".py",
   "mimetype": "text/x-python",
   "name": "python",
   "nbconvert_exporter": "python",
   "pygments_lexer": "ipython3",
   "version": "3.6.9"
  }
 },
 "nbformat": 4,
 "nbformat_minor": 4
}
