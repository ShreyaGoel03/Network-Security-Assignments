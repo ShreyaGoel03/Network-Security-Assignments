{
 "cells": [
  {
   "cell_type": "code",
   "execution_count": 1,
   "metadata": {},
   "outputs": [],
   "source": [
    "#Libraries Used\n",
    "import socket\n",
    "import pickle\n",
    "import pdfplumber\n",
    "import time\n",
    "import hashlib\n",
    "import copy"
   ]
  },
  {
   "cell_type": "code",
   "execution_count": 2,
   "metadata": {},
   "outputs": [],
   "source": [
    "#Closing any previous socket connection\n",
    "s = socket.socket(socket.AF_INET,socket.SOCK_STREAM)\n",
    "s.close()"
   ]
  },
  {
   "cell_type": "code",
   "execution_count": 3,
   "metadata": {},
   "outputs": [],
   "source": [
    "#Defining host and port\n",
    "host = 'local host'\n",
    "port = 5000\n",
    "#Defining the Socket connection\n",
    "s = socket.socket(socket.AF_INET,socket.SOCK_STREAM)\n",
    "s.bind(('', port)) #Binding the port and socket\n",
    "s.listen(5)"
   ]
  },
  {
   "cell_type": "code",
   "execution_count": 4,
   "metadata": {},
   "outputs": [],
   "source": [
    "#Loading the public keys of all clients and PKDA\n",
    "#Also, Loading the private key of PKDA\n",
    "with open('publicKey_registrar.pkl','rb') as file:\n",
    "    publicKey_registrar = pickle.load(file)\n",
    "\n",
    "with open('publicKey_director.pkl','rb') as file:\n",
    "    publicKey_director = pickle.load(file)\n",
    "    \n",
    "with open('privateKey_registrar.pkl','rb') as file:\n",
    "    privateKey_registrar = pickle.load(file)\n",
    "\n",
    "with open('privateKey_director.pkl','rb') as file:\n",
    "    privateKey_director = pickle.load(file)\n",
    "\n",
    "with open('publicKey_student.pkl','rb') as file:\n",
    "    publicKey_student = pickle.load(file)\n",
    "\n",
    "\n",
    "public_key_dict={}\n",
    "public_key_dict['registrar']= publicKey_registrar\n",
    "public_key_dict['director']= publicKey_director\n",
    "public_key_dict['student']= publicKey_student"
   ]
  },
  {
   "cell_type": "code",
   "execution_count": 5,
   "metadata": {},
   "outputs": [],
   "source": [
    "def binary_modular_exponention(m,e,n):\n",
    "    result = 1\n",
    "    m = m % n\n",
    "    if (m == 0):\n",
    "        return 0\n",
    "    while(e>0):\n",
    "        if(e&1):\n",
    "            result = (result*m) % n\n",
    "        e = e>>1\n",
    "        m = (m*m) % n\n",
    "    return result"
   ]
  },
  {
   "cell_type": "code",
   "execution_count": 6,
   "metadata": {},
   "outputs": [],
   "source": [
    "#Encryption Algorithm\n",
    "def encrypt_data(encryption_key, message):\n",
    "    cipher_text = ''\n",
    "    for value in range(0, len(message)):\n",
    "        encrypted_char = binary_modular_exponention(ord(message[value]), encryption_key[0], encryption_key[1])\n",
    "        cipher_text += chr(encrypted_char)\n",
    "    return cipher_text"
   ]
  },
  {
   "cell_type": "code",
   "execution_count": 7,
   "metadata": {},
   "outputs": [],
   "source": [
    "#Decryption Algorithm\n",
    "def decrypt_data(decryption_key, cipher_data):\n",
    "    original_text = ''\n",
    "    for value in range(0, len(cipher_data)):\n",
    "        decrypted_char = binary_modular_exponention(ord(cipher_data[value]), decryption_key[0], decryption_key[1])\n",
    "        original_text += chr(decrypted_char)\n",
    "    return original_text"
   ]
  },
  {
   "cell_type": "code",
   "execution_count": null,
   "metadata": {},
   "outputs": [
    {
     "name": "stdout",
     "output_type": "stream",
     "text": [
      "Waiting for connection\n",
      "\n",
      "CONNECTION FROM: ('127.0.0.1', 59482)\n",
      "\n",
      "\n",
      "Received message from Client :  Grade_MT20054\n",
      "\n",
      "The final Grade, Time and Location is:  Name: Shreya Goel\n",
      "Grade: A||time.struct_time(tm_year=2021, tm_mon=11, tm_mday=17, tm_hour=19, tm_min=46, tm_sec=18, tm_wday=2, tm_yday=321, tm_isdst=0)||Delhi\n",
      "Hashed Value:  80513b47849fafc4560929cbcc3a00ffc132e9d68f2ee60ccab20669c6bbd3e9\n",
      "Response sent by Server(decrypted form) :  Name: Shreya Goel\n",
      "Grade: A||time.struct_time(tm_year=2021, tm_mon=11, tm_mday=17, tm_hour=19, tm_min=46, tm_sec=18, tm_wday=2, tm_yday=321, tm_isdst=0)||Delhi||8q\u001bKbu78uS%G%cu\u001b6qS\u0018ScbccGqq%%cK\u0018Sd68%\u00186qccGb\u0018q66Sc6bbdS\n",
      "Response sent by Server(encrypted form) :  N|\u0015bI\u001aKy|b;-E\n",
      "\\L~I)I, ,,t;~~ww,$t)>IdL8w)>>L~,,; )~LLI,L  dt>Icb3\u0015(\u000fd\u000f3\t2GGkE\u001a(GG8~\\$t \n",
      "\n",
      "------------------Transaction end---------------------\n",
      "Waiting for connection\n",
      "\n",
      "CONNECTION FROM: ('127.0.0.1', 59642)\n",
      "\n",
      "\n",
      "Received message from Client :  Grade_MT20054\n",
      "\n",
      "The final Grade, Time and Location is:  Name: Shreya Goel\n",
      "Grade: A||time.struct_time(tm_year=2021, tm_mon=11, tm_mday=17, tm_hour=19, tm_min=55, tm_sec=33, tm_wday=2, tm_yday=321, tm_isdst=0)||Delhi\n",
      "Hashed Value:  9453b175f8e10d73bce798f84cfdd4897c63102675052ed178f577e76e2a0805\n",
      "Response sent by Server(decrypted form) :  Name: Shreya Goel\n",
      "Grade: A||time.struct_time(tm_year=2021, tm_mon=11, tm_mday=17, tm_hour=19, tm_min=55, tm_sec=33, tm_wday=2, tm_yday=321, tm_isdst=0)||Delhi||Su\u001bbK7\u001b%8Kqd7bc7S8%8uc%ddu8S7c6Kq\u001867\u001bq\u001b\u0018dK78%\u001b7776\u0018Gq8q\u001b\n",
      "Response sent by Server(encrypted form) :  N|\u0015bI\u001aKy|b;-E\n",
      "8I7,Lt$~)L7\\~\\)>d$78w\\77>7L>);~8~\\jcb3\u0015yd|yZjrcb3\u0015(\u000fd\u000f3\t2GGkE\u001a(GGI\n",
      "\n",
      "------------------Transaction end---------------------\n",
      "Waiting for connection\n",
      "\n"
     ]
    }
   ],
   "source": [
    "while(True):\n",
    "    print('Waiting for connection')\n",
    "    print()\n",
    "    c, addr = s.accept() #Accepting Connection\n",
    "    print(\"CONNECTION FROM:\", str(addr))\n",
    "    print()\n",
    "    c.send(b\"Connected succcessfully to Server\")\n",
    "    \n",
    "    #Accepting the Client Request - Request sent from Step1\n",
    "    msg = c.recv(1024)\n",
    "    print()\n",
    "    #Step 2\n",
    "    received_request = msg.decode() #Received Request from Step - 1\n",
    "    print('Received message from Client : ', received_request)\n",
    "    print()\n",
    "    #Reading the pdf file according to requested roll no\n",
    "    roll_no = received_request + \".pdf\"\n",
    "    \n",
    "    #Step 3\n",
    "    try:\n",
    "        #Server converts PDF file to a text file\n",
    "        pdf_file = pdfplumber.open(roll_no)\n",
    "        page = pdf_file.pages[0]\n",
    "        text = str(page.extract_text())\n",
    "        #Appending the GMT time to the text\n",
    "        gmt_time = str(time.gmtime(time.time()))\n",
    "        location = \"Delhi\"\n",
    "        grade_time = text + \"||\" + gmt_time + \"||\" + location\n",
    "        print(\"The final Grade, Time and Location is: \",grade_time)\n",
    "        pdf_file.close()\n",
    "        #Hashing the grades and time using SHA256\n",
    "        response = hashlib.sha256(grade_time.encode())\n",
    "        print(\"Hashed Value: \",response.hexdigest())\n",
    "        \n",
    "        #Step 4\n",
    "        #Double Encrypting the Response by Director and Registrar\n",
    "        encrypted_text = encrypt_data(privateKey_registrar, response.hexdigest())\n",
    "        double_encrypted_text = encrypt_data(privateKey_director, copy.deepcopy(encrypted_text))\n",
    "        #Final Message send to Client\n",
    "        final_response = grade_time + \"||\" + double_encrypted_text\n",
    "        print('Response sent by Server(decrypted form) : ',final_response)\n",
    "        \n",
    "        #Encrypting final response by students public key\n",
    "        final_encrypted_response = encrypt_data(publicKey_student, final_response)\n",
    "        print('Response sent by Server(encrypted form) : ',final_encrypted_response)\n",
    "        \n",
    "        c.send(final_encrypted_response.encode())\n",
    "    except Exception as e:\n",
    "        c.send(b\"Error Generated\")\n",
    "        print(e)\n",
    "        print(\"Roll Number does not exist!\")\n",
    "    print()\n",
    "    print('------------------Transaction end---------------------')\n",
    "    c.close()\n",
    "\n",
    "s.close()"
   ]
  }
 ],
 "metadata": {
  "kernelspec": {
   "display_name": "Python 3",
   "language": "python",
   "name": "python3"
  },
  "language_info": {
   "codemirror_mode": {
    "name": "ipython",
    "version": 3
   },
   "file_extension": ".py",
   "mimetype": "text/x-python",
   "name": "python",
   "nbconvert_exporter": "python",
   "pygments_lexer": "ipython3",
   "version": "3.6.9"
  }
 },
 "nbformat": 4,
 "nbformat_minor": 4
}
